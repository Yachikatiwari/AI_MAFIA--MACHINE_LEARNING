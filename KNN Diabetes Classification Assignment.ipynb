{
 "cells": [
  {
   "cell_type": "code",
   "execution_count": 1,
   "metadata": {},
   "outputs": [],
   "source": [
    "# Importing Libraries\n",
    "\n",
    "import numpy as np\n",
    "import pandas as pd\n",
    "import matplotlib.pyplot as plt"
   ]
  },
  {
   "cell_type": "code",
   "execution_count": 2,
   "metadata": {},
   "outputs": [
    {
     "data": {
      "text/html": [
       "<div>\n",
       "<style scoped>\n",
       "    .dataframe tbody tr th:only-of-type {\n",
       "        vertical-align: middle;\n",
       "    }\n",
       "\n",
       "    .dataframe tbody tr th {\n",
       "        vertical-align: top;\n",
       "    }\n",
       "\n",
       "    .dataframe thead th {\n",
       "        text-align: right;\n",
       "    }\n",
       "</style>\n",
       "<table border=\"1\" class=\"dataframe\">\n",
       "  <thead>\n",
       "    <tr style=\"text-align: right;\">\n",
       "      <th></th>\n",
       "      <th>Pregnancies</th>\n",
       "      <th>Glucose</th>\n",
       "      <th>BloodPressure</th>\n",
       "      <th>SkinThickness</th>\n",
       "      <th>Insulin</th>\n",
       "      <th>BMI</th>\n",
       "      <th>DiabetesPedigreeFunction</th>\n",
       "      <th>Age</th>\n",
       "    </tr>\n",
       "  </thead>\n",
       "  <tbody>\n",
       "    <tr>\n",
       "      <th>0</th>\n",
       "      <td>7</td>\n",
       "      <td>168</td>\n",
       "      <td>88</td>\n",
       "      <td>42</td>\n",
       "      <td>321</td>\n",
       "      <td>38.2</td>\n",
       "      <td>0.787</td>\n",
       "      <td>40</td>\n",
       "    </tr>\n",
       "    <tr>\n",
       "      <th>1</th>\n",
       "      <td>8</td>\n",
       "      <td>110</td>\n",
       "      <td>76</td>\n",
       "      <td>0</td>\n",
       "      <td>0</td>\n",
       "      <td>27.8</td>\n",
       "      <td>0.237</td>\n",
       "      <td>58</td>\n",
       "    </tr>\n",
       "    <tr>\n",
       "      <th>2</th>\n",
       "      <td>7</td>\n",
       "      <td>147</td>\n",
       "      <td>76</td>\n",
       "      <td>0</td>\n",
       "      <td>0</td>\n",
       "      <td>39.4</td>\n",
       "      <td>0.257</td>\n",
       "      <td>43</td>\n",
       "    </tr>\n",
       "    <tr>\n",
       "      <th>3</th>\n",
       "      <td>2</td>\n",
       "      <td>100</td>\n",
       "      <td>66</td>\n",
       "      <td>20</td>\n",
       "      <td>90</td>\n",
       "      <td>32.9</td>\n",
       "      <td>0.867</td>\n",
       "      <td>28</td>\n",
       "    </tr>\n",
       "    <tr>\n",
       "      <th>4</th>\n",
       "      <td>4</td>\n",
       "      <td>129</td>\n",
       "      <td>86</td>\n",
       "      <td>20</td>\n",
       "      <td>270</td>\n",
       "      <td>35.1</td>\n",
       "      <td>0.231</td>\n",
       "      <td>23</td>\n",
       "    </tr>\n",
       "  </tbody>\n",
       "</table>\n",
       "</div>"
      ],
      "text/plain": [
       "   Pregnancies  Glucose  BloodPressure  SkinThickness  Insulin   BMI  \\\n",
       "0            7      168             88             42      321  38.2   \n",
       "1            8      110             76              0        0  27.8   \n",
       "2            7      147             76              0        0  39.4   \n",
       "3            2      100             66             20       90  32.9   \n",
       "4            4      129             86             20      270  35.1   \n",
       "\n",
       "   DiabetesPedigreeFunction  Age  \n",
       "0                     0.787   40  \n",
       "1                     0.237   58  \n",
       "2                     0.257   43  \n",
       "3                     0.867   28  \n",
       "4                     0.231   23  "
      ]
     },
     "execution_count": 2,
     "metadata": {},
     "output_type": "execute_result"
    }
   ],
   "source": [
    "# Reading x Training data\n",
    "\n",
    "x = pd.read_csv('Diabetes_XTrain (1).csv')\n",
    "x.head()"
   ]
  },
  {
   "cell_type": "code",
   "execution_count": 3,
   "metadata": {},
   "outputs": [
    {
     "data": {
      "image/png": "[encoded data removed]",
      "text/plain": [
       "<Figure size 432x288 with 1 Axes>"
      ]
     },
     "metadata": {
      "needs_background": "light"
     },
     "output_type": "display_data"
    }
   ],
   "source": [
    "# Plotting x Train data as bar chart\n",
    "\n",
    "x.plot.bar()\n",
    "plt.show()"
   ]
  },
  {
   "cell_type": "code",
   "execution_count": 4,
   "metadata": {},
   "outputs": [
    {
     "data": {
      "text/plain": [
       "[3.7586805555555554,\n",
       " 119.97569444444444,\n",
       " 68.82638888888889,\n",
       " 20.364583333333332,\n",
       " 76.16666666666667,\n",
       " 31.857291666666665,\n",
       " 0.48151909722222225,\n",
       " 32.954861111111114]"
      ]
     },
     "execution_count": 4,
     "metadata": {},
     "output_type": "execute_result"
    }
   ],
   "source": [
    "# Finding Means\n",
    "\n",
    "xTrain=x.values\n",
    "list=[]\n",
    "for i in range(xTrain.shape[1]):\n",
    "    x1=xTrain[:,i].mean()\n",
    "    list.append(x1)\n",
    "list\n",
    "    "
   ]
  },
  {
   "cell_type": "code",
   "execution_count": 5,
   "metadata": {},
   "outputs": [
    {
     "data": {
      "image/png": "[encoded data removed]",
      "text/plain": [
       "<Figure size 432x288 with 1 Axes>"
      ]
     },
     "metadata": {
      "needs_background": "light"
     },
     "output_type": "display_data"
    }
   ],
   "source": [
    "# Plotting data values as per means\n",
    "\n",
    "x2 = x\n",
    "plt.bar([1,2,3,4,5,6,7,8],list,tick_label=x2.columns,color='red',width=0.8)\n",
    "plt.xticks(rotation='vertical')\n",
    "plt.show()"
   ]
  },
  {
   "cell_type": "code",
   "execution_count": 6,
   "metadata": {},
   "outputs": [
    {
     "data": {
      "image/png": "[encoded data removed]",
      "text/plain": [
       "<Figure size 432x288 with 1 Axes>"
      ]
     },
     "metadata": {
      "needs_background": "light"
     },
     "output_type": "display_data"
    }
   ],
   "source": [
    "# Plotting Pregnancies\n",
    "\n",
    "plt.hist(x2['Pregnancies'],rwidth=0.8,color='orange')\n",
    "plt.show()"
   ]
  },
  {
   "cell_type": "code",
   "execution_count": 7,
   "metadata": {},
   "outputs": [
    {
     "data": {
      "image/png": "[encoded data removed]",
      "text/plain": [
       "<Figure size 432x288 with 1 Axes>"
      ]
     },
     "metadata": {
      "needs_background": "light"
     },
     "output_type": "display_data"
    }
   ],
   "source": [
    "# Plotting Glucose\n",
    "\n",
    "plt.hist(x2['Glucose'],rwidth=0.8,color='magenta')\n",
    "plt.show()"
   ]
  },
  {
   "cell_type": "code",
   "execution_count": 8,
   "metadata": {},
   "outputs": [
    {
     "data": {
      "image/png": "[encoded data removed]",
      "text/plain": [
       "<Figure size 432x288 with 1 Axes>"
      ]
     },
     "metadata": {
      "needs_background": "light"
     },
     "output_type": "display_data"
    }
   ],
   "source": [
    "# Plotting BloodPressure\n",
    "\n",
    "plt.hist(x2['BloodPressure'],rwidth=0.8,color='cyan')\n",
    "plt.show()"
   ]
  },
  {
   "cell_type": "code",
   "execution_count": 9,
   "metadata": {},
   "outputs": [
    {
     "data": {
      "image/png": "[encoded data removed]",
      "text/plain": [
       "<Figure size 432x288 with 1 Axes>"
      ]
     },
     "metadata": {
      "needs_background": "light"
     },
     "output_type": "display_data"
    }
   ],
   "source": [
    "# Plotting SkinThickness\n",
    "\n",
    "plt.hist(x2['SkinThickness'],rwidth=0.8,color='green')\n",
    "plt.show()"
   ]
  },
  {
   "cell_type": "code",
   "execution_count": 10,
   "metadata": {},
   "outputs": [
    {
     "data": {
      "image/png": "[encoded data removed]",
      "text/plain": [
       "<Figure size 432x288 with 1 Axes>"
      ]
     },
     "metadata": {
      "needs_background": "light"
     },
     "output_type": "display_data"
    }
   ],
   "source": [
    "# Plotting Insulin Level\n",
    "\n",
    "plt.hist(x['Insulin'],rwidth=0.8,color='cyan')\n",
    "plt.show()"
   ]
  },
  {
   "cell_type": "code",
   "execution_count": 11,
   "metadata": {},
   "outputs": [
    {
     "data": {
      "image/png": "[encoded data removed]",
      "text/plain": [
       "<Figure size 432x288 with 1 Axes>"
      ]
     },
     "metadata": {
      "needs_background": "light"
     },
     "output_type": "display_data"
    }
   ],
   "source": [
    "# Plotting BMI Levels\n",
    "\n",
    "plt.hist(x2['BMI'],rwidth=0.8,color='brown')\n",
    "plt.show()"
   ]
  },
  {
   "cell_type": "code",
   "execution_count": 12,
   "metadata": {},
   "outputs": [
    {
     "data": {
      "image/png": "[encoded data removed]",
      "text/plain": [
       "<Figure size 432x288 with 1 Axes>"
      ]
     },
     "metadata": {
      "needs_background": "light"
     },
     "output_type": "display_data"
    }
   ],
   "source": [
    "# Plotting DiabetesPedigreeFunction\n",
    "\n",
    "plt.hist(x2['DiabetesPedigreeFunction'],rwidth=0.8,color='purple')\n",
    "plt.show()"
   ]
  },
  {
   "cell_type": "code",
   "execution_count": 13,
   "metadata": {},
   "outputs": [
    {
     "data": {
      "image/png": "[encoded data removed]",
      "text/plain": [
       "<Figure size 432x288 with 1 Axes>"
      ]
     },
     "metadata": {
      "needs_background": "light"
     },
     "output_type": "display_data"
    }
   ],
   "source": [
    "# Plotting Ages\n",
    "\n",
    "plt.hist(x['Age'],rwidth=0.8,color='pink')\n",
    "plt.show()"
   ]
  },
  {
   "cell_type": "code",
   "execution_count": 14,
   "metadata": {},
   "outputs": [
    {
     "data": {
      "text/plain": [
       "array([[  7.   , 168.   ,  88.   , ...,  38.2  ,   0.787,  40.   ],\n",
       "       [  8.   , 110.   ,  76.   , ...,  27.8  ,   0.237,  58.   ],\n",
       "       [  7.   , 147.   ,  76.   , ...,  39.4  ,   0.257,  43.   ],\n",
       "       ...,\n",
       "       [  2.   , 122.   ,  60.   , ...,  29.8  ,   0.717,  22.   ],\n",
       "       [  4.   , 154.   ,  72.   , ...,  31.3  ,   0.338,  37.   ],\n",
       "       [  1.   ,  88.   ,  78.   , ...,  32.   ,   0.365,  29.   ]])"
      ]
     },
     "execution_count": 14,
     "metadata": {},
     "output_type": "execute_result"
    }
   ],
   "source": [
    "xTrain"
   ]
  },
  {
   "cell_type": "code",
   "execution_count": 15,
   "metadata": {},
   "outputs": [
    {
     "data": {
      "text/plain": [
       "(576, 8)"
      ]
     },
     "execution_count": 15,
     "metadata": {},
     "output_type": "execute_result"
    }
   ],
   "source": [
    "xTrain.shape"
   ]
  },
  {
   "cell_type": "code",
   "execution_count": 16,
   "metadata": {},
   "outputs": [
    {
     "data": {
      "text/html": [
       "<div>\n",
       "<style scoped>\n",
       "    .dataframe tbody tr th:only-of-type {\n",
       "        vertical-align: middle;\n",
       "    }\n",
       "\n",
       "    .dataframe tbody tr th {\n",
       "        vertical-align: top;\n",
       "    }\n",
       "\n",
       "    .dataframe thead th {\n",
       "        text-align: right;\n",
       "    }\n",
       "</style>\n",
       "<table border=\"1\" class=\"dataframe\">\n",
       "  <thead>\n",
       "    <tr style=\"text-align: right;\">\n",
       "      <th></th>\n",
       "      <th>Outcome</th>\n",
       "    </tr>\n",
       "  </thead>\n",
       "  <tbody>\n",
       "    <tr>\n",
       "      <th>0</th>\n",
       "      <td>1</td>\n",
       "    </tr>\n",
       "    <tr>\n",
       "      <th>1</th>\n",
       "      <td>0</td>\n",
       "    </tr>\n",
       "    <tr>\n",
       "      <th>2</th>\n",
       "      <td>1</td>\n",
       "    </tr>\n",
       "    <tr>\n",
       "      <th>3</th>\n",
       "      <td>1</td>\n",
       "    </tr>\n",
       "    <tr>\n",
       "      <th>4</th>\n",
       "      <td>0</td>\n",
       "    </tr>\n",
       "  </tbody>\n",
       "</table>\n",
       "</div>"
      ],
      "text/plain": [
       "   Outcome\n",
       "0        1\n",
       "1        0\n",
       "2        1\n",
       "3        1\n",
       "4        0"
      ]
     },
     "execution_count": 16,
     "metadata": {},
     "output_type": "execute_result"
    }
   ],
   "source": [
    "# Reading y Training dataset\n",
    "\n",
    "y = pd.read_csv('Diabetes_YTrain (1).csv')\n",
    "y.head()"
   ]
  },
  {
   "cell_type": "code",
   "execution_count": 17,
   "metadata": {},
   "outputs": [
    {
     "data": {
      "text/plain": [
       "(576,)"
      ]
     },
     "execution_count": 17,
     "metadata": {},
     "output_type": "execute_result"
    }
   ],
   "source": [
    "yTrain = y.values\n",
    "yTrain= yTrain.reshape(-1)\n",
    "yTrain.shape"
   ]
  },
  {
   "cell_type": "code",
   "execution_count": 18,
   "metadata": {},
   "outputs": [],
   "source": [
    "# KNN ALGORITHM\n",
    "\n",
    "def distance(v1,v2):\n",
    "    return(np.sqrt(sum((v1-v2)**2)))\n",
    "\n",
    "def knn(x,y,pt,k=5):\n",
    "    dist=[]\n",
    "    for i in range(x.shape[0]):\n",
    "        d=distance(pt,x[i])\n",
    "        dist.append((d,int(y[i])))\n",
    "    dist=sorted(dist,key=lambda x:x[0])[:k]\n",
    "    dist=np.asarray(dist,dtype=np.int64)\n",
    "    new_vals=np.unique(dist[:,1],return_counts=True)\n",
    "    print(new_vals)\n",
    "    index=new_vals[1].argmax()\n",
    "    return new_vals[0][index]"
   ]
  },
  {
   "cell_type": "code",
   "execution_count": 19,
   "metadata": {},
   "outputs": [
    {
     "name": "stdout",
     "output_type": "stream",
     "text": [
      "(array([0, 1], dtype=int64), array([4, 1]))\n"
     ]
    },
    {
     "data": {
      "text/plain": [
       "0"
      ]
     },
     "execution_count": 19,
     "metadata": {},
     "output_type": "execute_result"
    }
   ],
   "source": [
    "# Testing Model based on Training Data\n",
    "\n",
    "result = knn(xTrain,yTrain,xTrain[24])\n",
    "result"
   ]
  },
  {
   "cell_type": "code",
   "execution_count": 20,
   "metadata": {},
   "outputs": [
    {
     "name": "stdout",
     "output_type": "stream",
     "text": [
      "(array([0, 1], dtype=int64), array([1, 4]))\n",
      "(array([0, 1], dtype=int64), array([4, 1]))\n",
      "(array([0, 1], dtype=int64), array([3, 2]))\n",
      "(array([0, 1], dtype=int64), array([4, 1]))\n",
      "(array([0], dtype=int64), array([5]))\n",
      "(array([0, 1], dtype=int64), array([4, 1]))\n",
      "(array([0, 1], dtype=int64), array([4, 1]))\n",
      "(array([0, 1], dtype=int64), array([4, 1]))\n",
      "(array([0, 1], dtype=int64), array([1, 4]))\n",
      "(array([0], dtype=int64), array([5]))\n",
      "(array([0], dtype=int64), array([5]))\n",
      "(array([0, 1], dtype=int64), array([4, 1]))\n",
      "(array([0], dtype=int64), array([5]))\n",
      "(array([0, 1], dtype=int64), array([3, 2]))\n",
      "(array([1], dtype=int64), array([5]))\n",
      "(array([0, 1], dtype=int64), array([4, 1]))\n",
      "(array([0, 1], dtype=int64), array([3, 2]))\n",
      "(array([0, 1], dtype=int64), array([3, 2]))\n",
      "(array([0, 1], dtype=int64), array([3, 2]))\n",
      "(array([0], dtype=int64), array([5]))\n",
      "(array([0], dtype=int64), array([5]))\n",
      "(array([0], dtype=int64), array([5]))\n",
      "(array([0], dtype=int64), array([5]))\n",
      "(array([0], dtype=int64), array([5]))\n",
      "(array([0, 1], dtype=int64), array([4, 1]))\n",
      "(array([0, 1], dtype=int64), array([4, 1]))\n",
      "(array([0, 1], dtype=int64), array([4, 1]))\n",
      "(array([0, 1], dtype=int64), array([1, 4]))\n",
      "(array([0, 1], dtype=int64), array([4, 1]))\n",
      "(array([0, 1], dtype=int64), array([2, 3]))\n",
      "(array([0, 1], dtype=int64), array([4, 1]))\n",
      "(array([0, 1], dtype=int64), array([2, 3]))\n",
      "(array([0], dtype=int64), array([5]))\n",
      "(array([0, 1], dtype=int64), array([3, 2]))\n",
      "(array([0, 1], dtype=int64), array([3, 2]))\n",
      "(array([0, 1], dtype=int64), array([4, 1]))\n",
      "(array([0, 1], dtype=int64), array([3, 2]))\n",
      "(array([0], dtype=int64), array([5]))\n",
      "(array([0, 1], dtype=int64), array([4, 1]))\n",
      "(array([0, 1], dtype=int64), array([2, 3]))\n",
      "(array([0, 1], dtype=int64), array([4, 1]))\n",
      "(array([0], dtype=int64), array([5]))\n",
      "(array([0, 1], dtype=int64), array([3, 2]))\n",
      "(array([0, 1], dtype=int64), array([4, 1]))\n",
      "(array([0, 1], dtype=int64), array([4, 1]))\n",
      "(array([0], dtype=int64), array([5]))\n",
      "(array([0], dtype=int64), array([5]))\n",
      "(array([0, 1], dtype=int64), array([2, 3]))\n",
      "(array([0, 1], dtype=int64), array([3, 2]))\n",
      "(array([1], dtype=int64), array([5]))\n",
      "(array([0, 1], dtype=int64), array([4, 1]))\n",
      "(array([0], dtype=int64), array([5]))\n",
      "(array([0, 1], dtype=int64), array([3, 2]))\n",
      "(array([0], dtype=int64), array([5]))\n",
      "(array([0, 1], dtype=int64), array([1, 4]))\n",
      "(array([0, 1], dtype=int64), array([4, 1]))\n",
      "(array([0], dtype=int64), array([5]))\n",
      "(array([0, 1], dtype=int64), array([4, 1]))\n",
      "(array([0, 1], dtype=int64), array([3, 2]))\n",
      "(array([0, 1], dtype=int64), array([3, 2]))\n",
      "(array([0], dtype=int64), array([5]))\n",
      "(array([0, 1], dtype=int64), array([3, 2]))\n",
      "(array([0, 1], dtype=int64), array([3, 2]))\n",
      "(array([0, 1], dtype=int64), array([3, 2]))\n",
      "(array([0], dtype=int64), array([5]))\n",
      "(array([0, 1], dtype=int64), array([1, 4]))\n",
      "(array([0, 1], dtype=int64), array([4, 1]))\n",
      "(array([0, 1], dtype=int64), array([4, 1]))\n",
      "(array([0], dtype=int64), array([5]))\n",
      "(array([0, 1], dtype=int64), array([3, 2]))\n",
      "(array([0, 1], dtype=int64), array([2, 3]))\n",
      "(array([0, 1], dtype=int64), array([1, 4]))\n",
      "(array([0, 1], dtype=int64), array([4, 1]))\n",
      "(array([0, 1], dtype=int64), array([4, 1]))\n",
      "(array([1], dtype=int64), array([5]))\n",
      "(array([0, 1], dtype=int64), array([4, 1]))\n",
      "(array([0], dtype=int64), array([5]))\n",
      "(array([0], dtype=int64), array([5]))\n",
      "(array([0, 1], dtype=int64), array([1, 4]))\n",
      "(array([0, 1], dtype=int64), array([1, 4]))\n",
      "(array([0, 1], dtype=int64), array([4, 1]))\n",
      "(array([0, 1], dtype=int64), array([2, 3]))\n",
      "(array([0, 1], dtype=int64), array([3, 2]))\n",
      "(array([0], dtype=int64), array([5]))\n",
      "(array([0], dtype=int64), array([5]))\n",
      "(array([0, 1], dtype=int64), array([1, 4]))\n",
      "(array([0], dtype=int64), array([5]))\n",
      "(array([0, 1], dtype=int64), array([4, 1]))\n",
      "(array([1], dtype=int64), array([5]))\n",
      "(array([0, 1], dtype=int64), array([3, 2]))\n",
      "(array([0, 1], dtype=int64), array([3, 2]))\n",
      "(array([0, 1], dtype=int64), array([1, 4]))\n",
      "(array([0, 1], dtype=int64), array([4, 1]))\n",
      "(array([0, 1], dtype=int64), array([3, 2]))\n",
      "(array([0, 1], dtype=int64), array([4, 1]))\n",
      "(array([0], dtype=int64), array([5]))\n",
      "(array([0, 1], dtype=int64), array([2, 3]))\n",
      "(array([0, 1], dtype=int64), array([3, 2]))\n",
      "(array([0, 1], dtype=int64), array([4, 1]))\n",
      "(array([0, 1], dtype=int64), array([2, 3]))\n",
      "(array([0, 1], dtype=int64), array([2, 3]))\n",
      "(array([0], dtype=int64), array([5]))\n",
      "(array([0, 1], dtype=int64), array([3, 2]))\n",
      "(array([0], dtype=int64), array([5]))\n",
      "(array([0, 1], dtype=int64), array([3, 2]))\n",
      "(array([0, 1], dtype=int64), array([1, 4]))\n",
      "(array([0, 1], dtype=int64), array([4, 1]))\n",
      "(array([0, 1], dtype=int64), array([1, 4]))\n",
      "(array([0, 1], dtype=int64), array([3, 2]))\n",
      "(array([0], dtype=int64), array([5]))\n",
      "(array([1], dtype=int64), array([5]))\n",
      "(array([0, 1], dtype=int64), array([4, 1]))\n",
      "(array([0, 1], dtype=int64), array([3, 2]))\n",
      "(array([0], dtype=int64), array([5]))\n",
      "(array([0], dtype=int64), array([5]))\n",
      "(array([0, 1], dtype=int64), array([4, 1]))\n",
      "(array([0, 1], dtype=int64), array([4, 1]))\n",
      "(array([0, 1], dtype=int64), array([4, 1]))\n",
      "(array([0, 1], dtype=int64), array([3, 2]))\n",
      "(array([0], dtype=int64), array([5]))\n",
      "(array([0], dtype=int64), array([5]))\n",
      "(array([1], dtype=int64), array([5]))\n",
      "(array([0, 1], dtype=int64), array([4, 1]))\n",
      "(array([0, 1], dtype=int64), array([3, 2]))\n",
      "(array([0, 1], dtype=int64), array([3, 2]))\n",
      "(array([0, 1], dtype=int64), array([1, 4]))\n",
      "(array([0, 1], dtype=int64), array([3, 2]))\n",
      "(array([0], dtype=int64), array([5]))\n",
      "(array([0, 1], dtype=int64), array([3, 2]))\n",
      "(array([0, 1], dtype=int64), array([2, 3]))\n",
      "(array([0, 1], dtype=int64), array([4, 1]))\n",
      "(array([0, 1], dtype=int64), array([1, 4]))\n",
      "(array([0, 1], dtype=int64), array([4, 1]))\n",
      "(array([0, 1], dtype=int64), array([3, 2]))\n",
      "(array([0], dtype=int64), array([5]))\n",
      "(array([0], dtype=int64), array([5]))\n",
      "(array([0, 1], dtype=int64), array([2, 3]))\n",
      "(array([0, 1], dtype=int64), array([4, 1]))\n",
      "(array([0, 1], dtype=int64), array([4, 1]))\n",
      "(array([0], dtype=int64), array([5]))\n",
      "(array([0, 1], dtype=int64), array([4, 1]))\n",
      "(array([0, 1], dtype=int64), array([3, 2]))\n",
      "(array([0, 1], dtype=int64), array([2, 3]))\n",
      "(array([0, 1], dtype=int64), array([4, 1]))\n",
      "(array([0], dtype=int64), array([5]))\n",
      "(array([0, 1], dtype=int64), array([2, 3]))\n",
      "(array([0, 1], dtype=int64), array([4, 1]))\n",
      "(array([1], dtype=int64), array([5]))\n",
      "(array([0, 1], dtype=int64), array([3, 2]))\n",
      "(array([0], dtype=int64), array([5]))\n",
      "(array([1], dtype=int64), array([5]))\n",
      "(array([1], dtype=int64), array([5]))\n",
      "(array([0, 1], dtype=int64), array([4, 1]))\n",
      "(array([0, 1], dtype=int64), array([4, 1]))\n",
      "(array([0, 1], dtype=int64), array([1, 4]))\n",
      "(array([0, 1], dtype=int64), array([2, 3]))\n",
      "(array([0], dtype=int64), array([5]))\n",
      "(array([0], dtype=int64), array([5]))\n",
      "(array([0], dtype=int64), array([5]))\n",
      "(array([0, 1], dtype=int64), array([2, 3]))\n",
      "(array([0, 1], dtype=int64), array([2, 3]))\n",
      "(array([0, 1], dtype=int64), array([4, 1]))\n",
      "(array([0], dtype=int64), array([5]))\n",
      "(array([0], dtype=int64), array([5]))\n",
      "(array([0, 1], dtype=int64), array([4, 1]))\n",
      "(array([1], dtype=int64), array([5]))\n",
      "(array([0], dtype=int64), array([5]))\n",
      "(array([0, 1], dtype=int64), array([3, 2]))\n",
      "(array([0, 1], dtype=int64), array([4, 1]))\n",
      "(array([1], dtype=int64), array([5]))\n",
      "(array([1], dtype=int64), array([5]))\n",
      "(array([0, 1], dtype=int64), array([2, 3]))\n",
      "(array([0, 1], dtype=int64), array([3, 2]))\n",
      "(array([0], dtype=int64), array([5]))\n",
      "(array([1], dtype=int64), array([5]))\n",
      "(array([0, 1], dtype=int64), array([3, 2]))\n",
      "(array([0, 1], dtype=int64), array([2, 3]))\n",
      "(array([0, 1], dtype=int64), array([4, 1]))\n",
      "(array([0], dtype=int64), array([5]))\n",
      "(array([0], dtype=int64), array([5]))\n",
      "(array([0], dtype=int64), array([5]))\n",
      "(array([0], dtype=int64), array([5]))\n",
      "(array([0, 1], dtype=int64), array([3, 2]))\n",
      "(array([1], dtype=int64), array([5]))\n",
      "(array([1], dtype=int64), array([5]))\n",
      "(array([0, 1], dtype=int64), array([3, 2]))\n",
      "(array([0, 1], dtype=int64), array([4, 1]))\n",
      "(array([0, 1], dtype=int64), array([2, 3]))\n",
      "(array([0, 1], dtype=int64), array([4, 1]))\n",
      "(array([0, 1], dtype=int64), array([3, 2]))\n",
      "(array([0, 1], dtype=int64), array([3, 2]))\n",
      "(array([0], dtype=int64), array([5]))\n",
      "(array([1], dtype=int64), array([5]))\n",
      "(array([1], dtype=int64), array([5]))\n",
      "(array([0, 1], dtype=int64), array([4, 1]))\n",
      "(array([0, 1], dtype=int64), array([3, 2]))\n"
     ]
    },
    {
     "name": "stdout",
     "output_type": "stream",
     "text": [
      "(array([0], dtype=int64), array([5]))\n",
      "(array([0, 1], dtype=int64), array([3, 2]))\n",
      "(array([0, 1], dtype=int64), array([4, 1]))\n",
      "(array([0], dtype=int64), array([5]))\n",
      "(array([0, 1], dtype=int64), array([3, 2]))\n",
      "(array([0, 1], dtype=int64), array([2, 3]))\n",
      "(array([0, 1], dtype=int64), array([3, 2]))\n",
      "(array([0], dtype=int64), array([5]))\n",
      "(array([0], dtype=int64), array([5]))\n",
      "(array([0, 1], dtype=int64), array([1, 4]))\n",
      "(array([1], dtype=int64), array([5]))\n",
      "(array([0], dtype=int64), array([5]))\n",
      "(array([0, 1], dtype=int64), array([3, 2]))\n",
      "(array([0, 1], dtype=int64), array([2, 3]))\n",
      "(array([0], dtype=int64), array([5]))\n",
      "(array([0], dtype=int64), array([5]))\n",
      "(array([0], dtype=int64), array([5]))\n",
      "(array([0, 1], dtype=int64), array([2, 3]))\n",
      "(array([0], dtype=int64), array([5]))\n",
      "(array([0, 1], dtype=int64), array([3, 2]))\n",
      "(array([0, 1], dtype=int64), array([1, 4]))\n",
      "(array([0, 1], dtype=int64), array([1, 4]))\n",
      "(array([0, 1], dtype=int64), array([2, 3]))\n",
      "(array([0, 1], dtype=int64), array([3, 2]))\n",
      "(array([1], dtype=int64), array([5]))\n",
      "(array([0], dtype=int64), array([5]))\n",
      "(array([0, 1], dtype=int64), array([3, 2]))\n",
      "(array([0, 1], dtype=int64), array([4, 1]))\n",
      "(array([0, 1], dtype=int64), array([2, 3]))\n",
      "(array([0, 1], dtype=int64), array([2, 3]))\n",
      "(array([0, 1], dtype=int64), array([2, 3]))\n",
      "(array([0, 1], dtype=int64), array([3, 2]))\n",
      "(array([0, 1], dtype=int64), array([4, 1]))\n",
      "(array([0, 1], dtype=int64), array([1, 4]))\n",
      "(array([0, 1], dtype=int64), array([2, 3]))\n",
      "(array([0, 1], dtype=int64), array([4, 1]))\n",
      "(array([1], dtype=int64), array([5]))\n",
      "(array([0], dtype=int64), array([5]))\n",
      "(array([0, 1], dtype=int64), array([1, 4]))\n",
      "(array([0, 1], dtype=int64), array([1, 4]))\n",
      "(array([0], dtype=int64), array([5]))\n",
      "(array([0, 1], dtype=int64), array([4, 1]))\n",
      "(array([0, 1], dtype=int64), array([3, 2]))\n",
      "(array([0, 1], dtype=int64), array([2, 3]))\n",
      "(array([0, 1], dtype=int64), array([3, 2]))\n",
      "(array([0, 1], dtype=int64), array([4, 1]))\n",
      "(array([0, 1], dtype=int64), array([4, 1]))\n",
      "(array([0, 1], dtype=int64), array([4, 1]))\n",
      "(array([0, 1], dtype=int64), array([1, 4]))\n",
      "(array([0, 1], dtype=int64), array([4, 1]))\n",
      "(array([0, 1], dtype=int64), array([2, 3]))\n",
      "(array([0], dtype=int64), array([5]))\n",
      "(array([0], dtype=int64), array([5]))\n",
      "(array([0, 1], dtype=int64), array([1, 4]))\n",
      "(array([0, 1], dtype=int64), array([3, 2]))\n",
      "(array([0, 1], dtype=int64), array([4, 1]))\n",
      "(array([0, 1], dtype=int64), array([4, 1]))\n",
      "(array([0, 1], dtype=int64), array([3, 2]))\n",
      "(array([0, 1], dtype=int64), array([1, 4]))\n",
      "(array([0, 1], dtype=int64), array([3, 2]))\n",
      "(array([0], dtype=int64), array([5]))\n",
      "(array([0], dtype=int64), array([5]))\n",
      "(array([0, 1], dtype=int64), array([4, 1]))\n",
      "(array([0], dtype=int64), array([5]))\n",
      "(array([1], dtype=int64), array([5]))\n",
      "(array([0, 1], dtype=int64), array([4, 1]))\n",
      "(array([0, 1], dtype=int64), array([4, 1]))\n",
      "(array([0, 1], dtype=int64), array([4, 1]))\n",
      "(array([0], dtype=int64), array([5]))\n",
      "(array([0, 1], dtype=int64), array([3, 2]))\n",
      "(array([0], dtype=int64), array([5]))\n",
      "(array([1], dtype=int64), array([5]))\n",
      "(array([0, 1], dtype=int64), array([4, 1]))\n",
      "(array([1], dtype=int64), array([5]))\n",
      "(array([0], dtype=int64), array([5]))\n",
      "(array([0, 1], dtype=int64), array([2, 3]))\n",
      "(array([0], dtype=int64), array([5]))\n",
      "(array([0, 1], dtype=int64), array([3, 2]))\n",
      "(array([0], dtype=int64), array([5]))\n",
      "(array([0, 1], dtype=int64), array([4, 1]))\n",
      "(array([1], dtype=int64), array([5]))\n",
      "(array([0, 1], dtype=int64), array([3, 2]))\n",
      "(array([0, 1], dtype=int64), array([3, 2]))\n",
      "(array([0], dtype=int64), array([5]))\n",
      "(array([0], dtype=int64), array([5]))\n",
      "(array([0], dtype=int64), array([5]))\n",
      "(array([0], dtype=int64), array([5]))\n",
      "(array([0, 1], dtype=int64), array([4, 1]))\n",
      "(array([0, 1], dtype=int64), array([2, 3]))\n",
      "(array([0, 1], dtype=int64), array([2, 3]))\n",
      "(array([0], dtype=int64), array([5]))\n",
      "(array([0], dtype=int64), array([5]))\n",
      "(array([0, 1], dtype=int64), array([4, 1]))\n",
      "(array([0, 1], dtype=int64), array([4, 1]))\n",
      "(array([0, 1], dtype=int64), array([3, 2]))\n",
      "(array([0, 1], dtype=int64), array([2, 3]))\n",
      "(array([0, 1], dtype=int64), array([3, 2]))\n",
      "(array([0, 1], dtype=int64), array([2, 3]))\n",
      "(array([0, 1], dtype=int64), array([3, 2]))\n",
      "(array([0], dtype=int64), array([5]))\n",
      "(array([0], dtype=int64), array([5]))\n",
      "(array([0, 1], dtype=int64), array([3, 2]))\n",
      "(array([0], dtype=int64), array([5]))\n",
      "(array([0, 1], dtype=int64), array([3, 2]))\n",
      "(array([0], dtype=int64), array([5]))\n",
      "(array([0, 1], dtype=int64), array([4, 1]))\n",
      "(array([0], dtype=int64), array([5]))\n",
      "(array([0], dtype=int64), array([5]))\n",
      "(array([0, 1], dtype=int64), array([3, 2]))\n",
      "(array([0, 1], dtype=int64), array([3, 2]))\n",
      "(array([0, 1], dtype=int64), array([4, 1]))\n",
      "(array([1], dtype=int64), array([5]))\n",
      "(array([0, 1], dtype=int64), array([3, 2]))\n",
      "(array([0, 1], dtype=int64), array([1, 4]))\n",
      "(array([0], dtype=int64), array([5]))\n",
      "(array([0, 1], dtype=int64), array([4, 1]))\n",
      "(array([0, 1], dtype=int64), array([4, 1]))\n",
      "(array([0, 1], dtype=int64), array([3, 2]))\n",
      "(array([0, 1], dtype=int64), array([2, 3]))\n",
      "(array([0, 1], dtype=int64), array([1, 4]))\n",
      "(array([0, 1], dtype=int64), array([2, 3]))\n",
      "(array([0, 1], dtype=int64), array([3, 2]))\n",
      "(array([0], dtype=int64), array([5]))\n",
      "(array([0, 1], dtype=int64), array([4, 1]))\n",
      "(array([0, 1], dtype=int64), array([1, 4]))\n",
      "(array([1], dtype=int64), array([5]))\n",
      "(array([0, 1], dtype=int64), array([2, 3]))\n",
      "(array([0, 1], dtype=int64), array([1, 4]))\n",
      "(array([0, 1], dtype=int64), array([4, 1]))\n",
      "(array([0], dtype=int64), array([5]))\n",
      "(array([0, 1], dtype=int64), array([4, 1]))\n",
      "(array([0, 1], dtype=int64), array([4, 1]))\n",
      "(array([0, 1], dtype=int64), array([4, 1]))\n",
      "(array([0, 1], dtype=int64), array([3, 2]))\n",
      "(array([0, 1], dtype=int64), array([3, 2]))\n",
      "(array([0, 1], dtype=int64), array([4, 1]))\n",
      "(array([0, 1], dtype=int64), array([4, 1]))\n",
      "(array([0], dtype=int64), array([5]))\n",
      "(array([0, 1], dtype=int64), array([4, 1]))\n",
      "(array([0, 1], dtype=int64), array([3, 2]))\n",
      "(array([0, 1], dtype=int64), array([3, 2]))\n",
      "(array([0, 1], dtype=int64), array([3, 2]))\n",
      "(array([0, 1], dtype=int64), array([4, 1]))\n",
      "(array([0], dtype=int64), array([5]))\n",
      "(array([0, 1], dtype=int64), array([1, 4]))\n",
      "(array([0, 1], dtype=int64), array([3, 2]))\n",
      "(array([0, 1], dtype=int64), array([4, 1]))\n",
      "(array([0], dtype=int64), array([5]))\n",
      "(array([0, 1], dtype=int64), array([1, 4]))\n",
      "(array([0, 1], dtype=int64), array([4, 1]))\n",
      "(array([0, 1], dtype=int64), array([2, 3]))\n",
      "(array([0], dtype=int64), array([5]))\n",
      "(array([0, 1], dtype=int64), array([2, 3]))\n",
      "(array([0, 1], dtype=int64), array([4, 1]))\n",
      "(array([0, 1], dtype=int64), array([2, 3]))\n",
      "(array([0], dtype=int64), array([5]))\n",
      "(array([0, 1], dtype=int64), array([4, 1]))\n",
      "(array([0, 1], dtype=int64), array([2, 3]))\n",
      "(array([0], dtype=int64), array([5]))\n",
      "(array([1], dtype=int64), array([5]))\n",
      "(array([0], dtype=int64), array([5]))\n",
      "(array([0, 1], dtype=int64), array([4, 1]))\n",
      "(array([0], dtype=int64), array([5]))\n",
      "(array([0], dtype=int64), array([5]))\n",
      "(array([0, 1], dtype=int64), array([3, 2]))\n",
      "(array([0], dtype=int64), array([5]))\n",
      "(array([0, 1], dtype=int64), array([3, 2]))\n",
      "(array([0, 1], dtype=int64), array([4, 1]))\n",
      "(array([0], dtype=int64), array([5]))\n",
      "(array([0, 1], dtype=int64), array([4, 1]))\n",
      "(array([0, 1], dtype=int64), array([4, 1]))\n",
      "(array([0, 1], dtype=int64), array([2, 3]))\n",
      "(array([0], dtype=int64), array([5]))\n",
      "(array([0], dtype=int64), array([5]))\n",
      "(array([0, 1], dtype=int64), array([1, 4]))\n",
      "(array([0, 1], dtype=int64), array([4, 1]))\n",
      "(array([0, 1], dtype=int64), array([2, 3]))\n",
      "(array([0, 1], dtype=int64), array([1, 4]))\n",
      "(array([0, 1], dtype=int64), array([3, 2]))\n",
      "(array([0], dtype=int64), array([5]))\n",
      "(array([0, 1], dtype=int64), array([1, 4]))\n",
      "(array([0, 1], dtype=int64), array([2, 3]))\n",
      "(array([1], dtype=int64), array([5]))\n",
      "(array([0, 1], dtype=int64), array([3, 2]))\n",
      "(array([0, 1], dtype=int64), array([3, 2]))\n",
      "(array([0, 1], dtype=int64), array([2, 3]))\n",
      "(array([0, 1], dtype=int64), array([4, 1]))\n",
      "(array([0, 1], dtype=int64), array([1, 4]))\n",
      "(array([0, 1], dtype=int64), array([2, 3]))\n",
      "(array([0, 1], dtype=int64), array([3, 2]))\n",
      "(array([0, 1], dtype=int64), array([3, 2]))\n",
      "(array([0, 1], dtype=int64), array([2, 3]))\n",
      "(array([0, 1], dtype=int64), array([4, 1]))\n",
      "(array([0, 1], dtype=int64), array([3, 2]))\n",
      "(array([0], dtype=int64), array([5]))\n",
      "(array([0], dtype=int64), array([5]))\n",
      "(array([0, 1], dtype=int64), array([3, 2]))\n",
      "(array([0], dtype=int64), array([5]))\n",
      "(array([0, 1], dtype=int64), array([3, 2]))\n",
      "(array([0], dtype=int64), array([5]))\n",
      "(array([0, 1], dtype=int64), array([2, 3]))\n",
      "(array([0, 1], dtype=int64), array([4, 1]))\n"
     ]
    },
    {
     "name": "stdout",
     "output_type": "stream",
     "text": [
      "(array([0, 1], dtype=int64), array([3, 2]))\n",
      "(array([0], dtype=int64), array([5]))\n",
      "(array([0, 1], dtype=int64), array([3, 2]))\n",
      "(array([0, 1], dtype=int64), array([3, 2]))\n",
      "(array([0, 1], dtype=int64), array([3, 2]))\n",
      "(array([0, 1], dtype=int64), array([2, 3]))\n",
      "(array([0, 1], dtype=int64), array([3, 2]))\n",
      "(array([0, 1], dtype=int64), array([3, 2]))\n",
      "(array([0], dtype=int64), array([5]))\n",
      "(array([0, 1], dtype=int64), array([1, 4]))\n",
      "(array([0], dtype=int64), array([5]))\n",
      "(array([0, 1], dtype=int64), array([3, 2]))\n",
      "(array([0, 1], dtype=int64), array([4, 1]))\n",
      "(array([0, 1], dtype=int64), array([3, 2]))\n",
      "(array([0], dtype=int64), array([5]))\n",
      "(array([0, 1], dtype=int64), array([1, 4]))\n",
      "(array([0, 1], dtype=int64), array([4, 1]))\n",
      "(array([0], dtype=int64), array([5]))\n",
      "(array([0, 1], dtype=int64), array([3, 2]))\n",
      "(array([0, 1], dtype=int64), array([1, 4]))\n",
      "(array([0, 1], dtype=int64), array([4, 1]))\n",
      "(array([0, 1], dtype=int64), array([3, 2]))\n",
      "(array([0, 1], dtype=int64), array([4, 1]))\n",
      "(array([0, 1], dtype=int64), array([1, 4]))\n",
      "(array([0, 1], dtype=int64), array([2, 3]))\n",
      "(array([0, 1], dtype=int64), array([3, 2]))\n",
      "(array([0, 1], dtype=int64), array([3, 2]))\n",
      "(array([0], dtype=int64), array([5]))\n",
      "(array([0, 1], dtype=int64), array([3, 2]))\n",
      "(array([0, 1], dtype=int64), array([4, 1]))\n",
      "(array([0, 1], dtype=int64), array([4, 1]))\n",
      "(array([0, 1], dtype=int64), array([2, 3]))\n",
      "(array([0, 1], dtype=int64), array([4, 1]))\n",
      "(array([0], dtype=int64), array([5]))\n",
      "(array([0, 1], dtype=int64), array([3, 2]))\n",
      "(array([0], dtype=int64), array([5]))\n",
      "(array([0, 1], dtype=int64), array([2, 3]))\n",
      "(array([0], dtype=int64), array([5]))\n",
      "(array([0, 1], dtype=int64), array([1, 4]))\n",
      "(array([0], dtype=int64), array([5]))\n",
      "(array([0, 1], dtype=int64), array([4, 1]))\n",
      "(array([0], dtype=int64), array([5]))\n",
      "(array([0, 1], dtype=int64), array([4, 1]))\n",
      "(array([0, 1], dtype=int64), array([4, 1]))\n",
      "(array([0, 1], dtype=int64), array([3, 2]))\n",
      "(array([0, 1], dtype=int64), array([2, 3]))\n",
      "(array([0, 1], dtype=int64), array([4, 1]))\n",
      "(array([0, 1], dtype=int64), array([4, 1]))\n",
      "(array([0, 1], dtype=int64), array([3, 2]))\n",
      "(array([0, 1], dtype=int64), array([4, 1]))\n",
      "(array([0, 1], dtype=int64), array([3, 2]))\n",
      "(array([0], dtype=int64), array([5]))\n",
      "(array([0, 1], dtype=int64), array([2, 3]))\n",
      "(array([0, 1], dtype=int64), array([4, 1]))\n",
      "(array([0], dtype=int64), array([5]))\n",
      "(array([1], dtype=int64), array([5]))\n",
      "(array([0, 1], dtype=int64), array([4, 1]))\n",
      "(array([0], dtype=int64), array([5]))\n",
      "(array([0], dtype=int64), array([5]))\n",
      "(array([0], dtype=int64), array([5]))\n",
      "(array([0], dtype=int64), array([5]))\n",
      "(array([0], dtype=int64), array([5]))\n",
      "(array([0, 1], dtype=int64), array([3, 2]))\n",
      "(array([0, 1], dtype=int64), array([3, 2]))\n",
      "(array([0], dtype=int64), array([5]))\n",
      "(array([1], dtype=int64), array([5]))\n",
      "(array([0, 1], dtype=int64), array([3, 2]))\n",
      "(array([0], dtype=int64), array([5]))\n",
      "(array([0, 1], dtype=int64), array([1, 4]))\n",
      "(array([0, 1], dtype=int64), array([2, 3]))\n",
      "(array([0], dtype=int64), array([5]))\n",
      "(array([0, 1], dtype=int64), array([3, 2]))\n",
      "(array([0, 1], dtype=int64), array([4, 1]))\n",
      "(array([0], dtype=int64), array([5]))\n",
      "(array([0, 1], dtype=int64), array([4, 1]))\n",
      "(array([0], dtype=int64), array([5]))\n",
      "(array([0, 1], dtype=int64), array([4, 1]))\n",
      "(array([0], dtype=int64), array([5]))\n",
      "(array([0], dtype=int64), array([5]))\n",
      "(array([0], dtype=int64), array([5]))\n",
      "(array([0, 1], dtype=int64), array([2, 3]))\n",
      "(array([0, 1], dtype=int64), array([1, 4]))\n",
      "(array([1], dtype=int64), array([5]))\n",
      "(array([0, 1], dtype=int64), array([3, 2]))\n",
      "(array([0, 1], dtype=int64), array([2, 3]))\n",
      "(array([0, 1], dtype=int64), array([2, 3]))\n",
      "(array([0, 1], dtype=int64), array([2, 3]))\n",
      "(array([0, 1], dtype=int64), array([3, 2]))\n",
      "(array([0, 1], dtype=int64), array([3, 2]))\n",
      "(array([0, 1], dtype=int64), array([4, 1]))\n",
      "(array([0], dtype=int64), array([5]))\n",
      "(array([0, 1], dtype=int64), array([4, 1]))\n",
      "(array([0, 1], dtype=int64), array([1, 4]))\n",
      "(array([0, 1], dtype=int64), array([3, 2]))\n",
      "(array([0], dtype=int64), array([5]))\n",
      "(array([0, 1], dtype=int64), array([1, 4]))\n",
      "(array([0], dtype=int64), array([5]))\n",
      "(array([0, 1], dtype=int64), array([4, 1]))\n",
      "(array([0, 1], dtype=int64), array([1, 4]))\n",
      "(array([0], dtype=int64), array([5]))\n",
      "(array([0], dtype=int64), array([5]))\n",
      "(array([0, 1], dtype=int64), array([1, 4]))\n",
      "(array([0, 1], dtype=int64), array([2, 3]))\n",
      "(array([0, 1], dtype=int64), array([2, 3]))\n",
      "(array([0, 1], dtype=int64), array([1, 4]))\n",
      "(array([0, 1], dtype=int64), array([2, 3]))\n",
      "(array([0, 1], dtype=int64), array([4, 1]))\n",
      "(array([0], dtype=int64), array([5]))\n",
      "(array([0, 1], dtype=int64), array([2, 3]))\n",
      "(array([0, 1], dtype=int64), array([2, 3]))\n",
      "(array([0, 1], dtype=int64), array([2, 3]))\n",
      "(array([0, 1], dtype=int64), array([4, 1]))\n",
      "(array([0, 1], dtype=int64), array([4, 1]))\n",
      "(array([0, 1], dtype=int64), array([2, 3]))\n",
      "(array([0, 1], dtype=int64), array([1, 4]))\n",
      "(array([0, 1], dtype=int64), array([4, 1]))\n",
      "(array([0], dtype=int64), array([5]))\n",
      "(array([0, 1], dtype=int64), array([1, 4]))\n",
      "(array([0], dtype=int64), array([5]))\n",
      "(array([0, 1], dtype=int64), array([3, 2]))\n",
      "(array([0, 1], dtype=int64), array([4, 1]))\n",
      "(array([1], dtype=int64), array([5]))\n",
      "(array([0, 1], dtype=int64), array([4, 1]))\n",
      "(array([0, 1], dtype=int64), array([3, 2]))\n",
      "(array([0, 1], dtype=int64), array([3, 2]))\n",
      "(array([0, 1], dtype=int64), array([4, 1]))\n",
      "(array([0, 1], dtype=int64), array([4, 1]))\n",
      "(array([0, 1], dtype=int64), array([4, 1]))\n",
      "(array([0], dtype=int64), array([5]))\n",
      "(array([0, 1], dtype=int64), array([3, 2]))\n",
      "(array([0, 1], dtype=int64), array([4, 1]))\n",
      "(array([0], dtype=int64), array([5]))\n",
      "(array([0, 1], dtype=int64), array([4, 1]))\n",
      "(array([0, 1], dtype=int64), array([2, 3]))\n",
      "(array([0, 1], dtype=int64), array([4, 1]))\n",
      "(array([0, 1], dtype=int64), array([3, 2]))\n",
      "(array([0, 1], dtype=int64), array([2, 3]))\n",
      "(array([0, 1], dtype=int64), array([3, 2]))\n",
      "(array([0, 1], dtype=int64), array([4, 1]))\n",
      "(array([0], dtype=int64), array([5]))\n",
      "(array([0, 1], dtype=int64), array([3, 2]))\n",
      "(array([0, 1], dtype=int64), array([2, 3]))\n",
      "(array([0, 1], dtype=int64), array([1, 4]))\n",
      "(array([0], dtype=int64), array([5]))\n",
      "(array([0], dtype=int64), array([5]))\n",
      "(array([0, 1], dtype=int64), array([2, 3]))\n",
      "(array([0, 1], dtype=int64), array([3, 2]))\n",
      "(array([0, 1], dtype=int64), array([2, 3]))\n",
      "(array([0, 1], dtype=int64), array([4, 1]))\n",
      "(array([0, 1], dtype=int64), array([4, 1]))\n",
      "(array([1], dtype=int64), array([5]))\n",
      "(array([0, 1], dtype=int64), array([3, 2]))\n",
      "(array([0, 1], dtype=int64), array([2, 3]))\n",
      "(array([0, 1], dtype=int64), array([3, 2]))\n",
      "(array([0, 1], dtype=int64), array([2, 3]))\n",
      "(array([0, 1], dtype=int64), array([3, 2]))\n",
      "(array([0, 1], dtype=int64), array([4, 1]))\n",
      "(array([0, 1], dtype=int64), array([2, 3]))\n",
      "(array([1], dtype=int64), array([5]))\n",
      "(array([0], dtype=int64), array([5]))\n",
      "(array([0, 1], dtype=int64), array([3, 2]))\n",
      "(array([0], dtype=int64), array([5]))\n",
      "(array([0, 1], dtype=int64), array([2, 3]))\n",
      "(array([0, 1], dtype=int64), array([4, 1]))\n",
      "(array([0, 1], dtype=int64), array([2, 3]))\n",
      "(array([1], dtype=int64), array([5]))\n",
      "(array([0], dtype=int64), array([5]))\n",
      "(array([0, 1], dtype=int64), array([4, 1]))\n",
      "(array([0, 1], dtype=int64), array([3, 2]))\n",
      "(array([0, 1], dtype=int64), array([2, 3]))\n",
      "(array([0, 1], dtype=int64), array([4, 1]))\n",
      "(array([0, 1], dtype=int64), array([3, 2]))\n",
      "(array([0, 1], dtype=int64), array([2, 3]))\n",
      "(array([0], dtype=int64), array([5]))\n",
      "(array([1], dtype=int64), array([5]))\n",
      "(array([0], dtype=int64), array([5]))\n",
      "(array([0, 1], dtype=int64), array([2, 3]))\n",
      "(array([0, 1], dtype=int64), array([4, 1]))\n"
     ]
    }
   ],
   "source": [
    "# Printing all prediictions\n",
    "\n",
    "for i in range(xTrain.shape[0]):\n",
    "    result = knn(xTrain, yTrain, xTrain[i])"
   ]
  },
  {
   "cell_type": "code",
   "execution_count": 21,
   "metadata": {},
   "outputs": [
    {
     "data": {
      "text/html": [
       "<div>\n",
       "<style scoped>\n",
       "    .dataframe tbody tr th:only-of-type {\n",
       "        vertical-align: middle;\n",
       "    }\n",
       "\n",
       "    .dataframe tbody tr th {\n",
       "        vertical-align: top;\n",
       "    }\n",
       "\n",
       "    .dataframe thead th {\n",
       "        text-align: right;\n",
       "    }\n",
       "</style>\n",
       "<table border=\"1\" class=\"dataframe\">\n",
       "  <thead>\n",
       "    <tr style=\"text-align: right;\">\n",
       "      <th></th>\n",
       "      <th>Pregnancies</th>\n",
       "      <th>Glucose</th>\n",
       "      <th>BloodPressure</th>\n",
       "      <th>SkinThickness</th>\n",
       "      <th>Insulin</th>\n",
       "      <th>BMI</th>\n",
       "      <th>DiabetesPedigreeFunction</th>\n",
       "      <th>Age</th>\n",
       "    </tr>\n",
       "  </thead>\n",
       "  <tbody>\n",
       "    <tr>\n",
       "      <th>0</th>\n",
       "      <td>0</td>\n",
       "      <td>180</td>\n",
       "      <td>90</td>\n",
       "      <td>26</td>\n",
       "      <td>90</td>\n",
       "      <td>36.5</td>\n",
       "      <td>0.314</td>\n",
       "      <td>35</td>\n",
       "    </tr>\n",
       "    <tr>\n",
       "      <th>1</th>\n",
       "      <td>2</td>\n",
       "      <td>93</td>\n",
       "      <td>64</td>\n",
       "      <td>32</td>\n",
       "      <td>160</td>\n",
       "      <td>38.0</td>\n",
       "      <td>0.674</td>\n",
       "      <td>23</td>\n",
       "    </tr>\n",
       "    <tr>\n",
       "      <th>2</th>\n",
       "      <td>2</td>\n",
       "      <td>114</td>\n",
       "      <td>68</td>\n",
       "      <td>22</td>\n",
       "      <td>0</td>\n",
       "      <td>28.7</td>\n",
       "      <td>0.092</td>\n",
       "      <td>25</td>\n",
       "    </tr>\n",
       "    <tr>\n",
       "      <th>3</th>\n",
       "      <td>13</td>\n",
       "      <td>76</td>\n",
       "      <td>60</td>\n",
       "      <td>0</td>\n",
       "      <td>0</td>\n",
       "      <td>32.8</td>\n",
       "      <td>0.180</td>\n",
       "      <td>41</td>\n",
       "    </tr>\n",
       "    <tr>\n",
       "      <th>4</th>\n",
       "      <td>1</td>\n",
       "      <td>80</td>\n",
       "      <td>74</td>\n",
       "      <td>11</td>\n",
       "      <td>60</td>\n",
       "      <td>30.0</td>\n",
       "      <td>0.527</td>\n",
       "      <td>22</td>\n",
       "    </tr>\n",
       "  </tbody>\n",
       "</table>\n",
       "</div>"
      ],
      "text/plain": [
       "   Pregnancies  Glucose  BloodPressure  SkinThickness  Insulin   BMI  \\\n",
       "0            0      180             90             26       90  36.5   \n",
       "1            2       93             64             32      160  38.0   \n",
       "2            2      114             68             22        0  28.7   \n",
       "3           13       76             60              0        0  32.8   \n",
       "4            1       80             74             11       60  30.0   \n",
       "\n",
       "   DiabetesPedigreeFunction  Age  \n",
       "0                     0.314   35  \n",
       "1                     0.674   23  \n",
       "2                     0.092   25  \n",
       "3                     0.180   41  \n",
       "4                     0.527   22  "
      ]
     },
     "execution_count": 21,
     "metadata": {},
     "output_type": "execute_result"
    }
   ],
   "source": [
    "# Reading Test data\n",
    "\n",
    "xTest = pd.read_csv('Diabetes_Xtest (1).csv')\n",
    "xTest.head()"
   ]
  },
  {
   "cell_type": "code",
   "execution_count": 22,
   "metadata": {},
   "outputs": [
    {
     "data": {
      "text/plain": [
       "0"
      ]
     },
     "execution_count": 22,
     "metadata": {},
     "output_type": "execute_result"
    }
   ],
   "source": [
    "\n",
    "\n",
    "arr = np.zeros(1,dtype = np.int64)\n",
    "arr[0]"
   ]
  },
  {
   "cell_type": "code",
   "execution_count": 23,
   "metadata": {},
   "outputs": [
    {
     "data": {
      "text/plain": [
       "(192, 8)"
      ]
     },
     "execution_count": 23,
     "metadata": {},
     "output_type": "execute_result"
    }
   ],
   "source": [
    "xTest.shape"
   ]
  },
  {
   "cell_type": "code",
   "execution_count": null,
   "metadata": {},
   "outputs": [],
   "source": []
  }
 ],
 "metadata": {
  "kernelspec": {
   "display_name": "Python 3",
   "language": "python",
   "name": "python3"
  },
  "language_info": {
   "codemirror_mode": {
    "name": "ipython",
    "version": 3
   },
   "file_extension": ".py",
   "mimetype": "text/x-python",
   "name": "python",
   "nbconvert_exporter": "python",
   "pygments_lexer": "ipython3",
   "version": "3.8.2"
  }
 },
 "nbformat": 4,
 "nbformat_minor": 2
}
